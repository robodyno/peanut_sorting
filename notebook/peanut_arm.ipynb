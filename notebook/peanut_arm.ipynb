{
 "cells": [
  {
   "cell_type": "code",
   "execution_count": 13,
   "id": "2111a523-f267-4050-987d-f01c4de650f8",
   "metadata": {},
   "outputs": [],
   "source": [
    "from arm_device import DoubleArm\n",
    "arm=DoubleArm()\n",
    "import numpy as np\n",
    "import time\n",
    "import math"
   ]
  },
  {
   "cell_type": "code",
   "execution_count": 14,
   "id": "5b971b4d-93d3-4c97-882e-0d62ec2f101c",
   "metadata": {},
   "outputs": [],
   "source": [
    "arm.enable()  #机械臂使能"
   ]
  },
  {
   "cell_type": "code",
   "execution_count": 3,
   "id": "0edb5213-f358-4f3f-bc48-240a027b1946",
   "metadata": {},
   "outputs": [
    {
     "name": "stdout",
     "output_type": "stream",
     "text": [
      "motor 0  set sucessfully!\n",
      "motor 1  set sucessfully!\n"
     ]
    }
   ],
   "source": [
    "#初始化部分\n",
    "acc_up = 2\n",
    "acc_down = 2\n",
    "vel_speed = 0.22\n",
    "arm.write_position_traj_mode(0, vel_speed, acc_up, acc_down)\n",
    "arm.write_position_traj_mode(1, vel_speed, acc_up, acc_down)\n",
    "arm.set_stepper_vel_acc_limit(8, 3.14/2, 3.14/2 ) #设置步进电机最大速度、加速度"
   ]
  },
  {
   "cell_type": "code",
   "execution_count": 4,
   "id": "29b58674-c410-449a-8ec9-f96c604d6827",
   "metadata": {},
   "outputs": [
    {
     "data": {
      "text/plain": [
       "-0.0"
      ]
     },
     "execution_count": 4,
     "metadata": {},
     "output_type": "execute_result"
    }
   ],
   "source": [
    "arm.motors[2].get_pos(0.3)"
   ]
  },
  {
   "cell_type": "code",
   "execution_count": 43,
   "id": "a277a6e1-5275-4d9c-a349-d87cf96a18ea",
   "metadata": {},
   "outputs": [],
   "source": [
    "arm.peanut_jump(50)"
   ]
  },
  {
   "cell_type": "code",
   "execution_count": 44,
   "id": "6c1efa74-f3c8-4e2f-a4c8-7549b4e9ae6f",
   "metadata": {},
   "outputs": [],
   "source": [
    "arm.peanut_jump(0)"
   ]
  },
  {
   "cell_type": "code",
   "execution_count": 13,
   "id": "327e5848-556f-44f0-a81f-b402dc2c16ad",
   "metadata": {},
   "outputs": [
    {
     "data": {
      "text/plain": [
       "0.0"
      ]
     },
     "execution_count": 13,
     "metadata": {},
     "output_type": "execute_result"
    }
   ],
   "source": [
    "arm.motors[3].get_pos(0.3)"
   ]
  },
  {
   "cell_type": "code",
   "execution_count": null,
   "id": "fb3e168e-a503-41de-be39-d3bbc555248a",
   "metadata": {},
   "outputs": [],
   "source": [
    "arm.motors[2].set_pos(0)"
   ]
  },
  {
   "cell_type": "code",
   "execution_count": 16,
   "id": "85d79702-34f8-4f7a-a6af-147ddc9ea069",
   "metadata": {},
   "outputs": [],
   "source": [
    "arm.motors[2].set_pos(0)"
   ]
  },
  {
   "cell_type": "code",
   "execution_count": 9,
   "id": "eed5b8bb-ee36-4f91-9183-c34ab3b5d9ad",
   "metadata": {},
   "outputs": [],
   "source": [
    "arm.stepper_position(1.5)"
   ]
  },
  {
   "cell_type": "code",
   "execution_count": 10,
   "id": "013e34a6-7e27-443d-99ae-321b8f93f7ba",
   "metadata": {},
   "outputs": [],
   "source": [
    "arm.stepper_position_reset()"
   ]
  },
  {
   "cell_type": "code",
   "execution_count": null,
   "id": "d751fd1c-30fa-4338-911d-6e7002b9658b",
   "metadata": {},
   "outputs": [],
   "source": [
    "arm.stepper_position(-0.8)"
   ]
  },
  {
   "cell_type": "code",
   "execution_count": 15,
   "id": "48434acc-e58f-4395-9c97-7f854aaa2a49",
   "metadata": {},
   "outputs": [],
   "source": [
    "arm.disable()  #机械臂失能"
   ]
  },
  {
   "cell_type": "code",
   "execution_count": null,
   "id": "7812f81a-d729-44f5-bde4-cac859a3314c",
   "metadata": {},
   "outputs": [],
   "source": []
  },
  {
   "cell_type": "code",
   "execution_count": 4,
   "id": "6f5022ac-ef6a-4299-af81-9d00843e83f8",
   "metadata": {},
   "outputs": [
    {
     "data": {
      "application/vnd.jupyter.widget-view+json": {
       "model_id": "72c7f92d21e34640bebf4386062c60b8",
       "version_major": 2,
       "version_minor": 0
      },
      "text/plain": [
       "interactive(children=(FloatSlider(value=-0.03, description='a1', max=3.141592653589793, min=-3.141592653589793…"
      ]
     },
     "metadata": {},
     "output_type": "display_data"
    }
   ],
   "source": [
    "from ipywidgets import interact\n",
    "from math import pi\n",
    "@interact(a1=(-pi, pi, 0.01), a2=(-pi, pi, 0.01), a3=(-2*pi, 4.0, 0.01), a4=(-2*pi, 2*pi, 0.01))\n",
    "def calibrate(a1=-0.03, a2=0.22, a3=0.0, a4=0.0):\n",
    "    arm.set_motor_pos(0, a1)\n",
    "    arm.set_motor_pos(1, a2)\n",
    "    arm.set_motor_pos(2, a3)\n",
    "    arm.set_motor_pos(3, a4)"
   ]
  },
  {
   "cell_type": "code",
   "execution_count": 5,
   "id": "8d7baa18-ed9c-4f5e-b0be-65a5c5726e8e",
   "metadata": {},
   "outputs": [
    {
     "name": "stdout",
     "output_type": "stream",
     "text": [
      "i: 0\n",
      "i: 1\n",
      "i: 2\n"
     ]
    }
   ],
   "source": [
    "arm.init()"
   ]
  },
  {
   "cell_type": "markdown",
   "id": "03fcb081-4567-4483-8708-756d8211f4f0",
   "metadata": {},
   "source": [
    "### 读取电机速度电流限制（速度、电流）"
   ]
  },
  {
   "cell_type": "code",
   "execution_count": 17,
   "id": "daf98fce-8e77-46c8-bde9-446ce02cbd70",
   "metadata": {},
   "outputs": [
    {
     "name": "stdout",
     "output_type": "stream",
     "text": [
      "motor0: (30.0, 13.0)\n",
      "motor1: (30.0, 13.0)\n"
     ]
    }
   ],
   "source": [
    "arm.read_motor_get_limits()"
   ]
  },
  {
   "cell_type": "markdown",
   "id": "5515c495-1467-4ce0-895f-36f4aab6ddd2",
   "metadata": {},
   "source": [
    "### 设置电机默认最大速度及最大电流(30, 10)"
   ]
  },
  {
   "cell_type": "code",
   "execution_count": 16,
   "id": "9d7fcd6d-78ed-4f42-af51-62f9f0a4ce53",
   "metadata": {},
   "outputs": [],
   "source": [
    "arm.set_motor_vel_inter(30,13)"
   ]
  },
  {
   "cell_type": "code",
   "execution_count": null,
   "id": "49cb8c8c-3c3d-4c9e-bc87-f2859434207b",
   "metadata": {},
   "outputs": [],
   "source": []
  },
  {
   "cell_type": "code",
   "execution_count": 16,
   "id": "17a937fc-7564-466f-bf68-2ff73775cedb",
   "metadata": {},
   "outputs": [],
   "source": [
    "arm.set_position_fliter_mode(0,4)"
   ]
  },
  {
   "cell_type": "code",
   "execution_count": 17,
   "id": "cf707449-35cc-44b2-a06c-feaa11a14a18",
   "metadata": {},
   "outputs": [],
   "source": [
    "arm.set_position_fliter_mode(1,4)"
   ]
  },
  {
   "cell_type": "code",
   "execution_count": null,
   "id": "25aa48e7-7c2a-4c8f-9ae7-bade82c55018",
   "metadata": {},
   "outputs": [],
   "source": []
  },
  {
   "cell_type": "markdown",
   "id": "1a752417-aa67-448a-bc23-1749d0f47804",
   "metadata": {},
   "source": [
    "### 读取当前电机模式"
   ]
  },
  {
   "cell_type": "code",
   "execution_count": null,
   "id": "b012a1fe-9947-4641-b032-6c3f2b4ef96d",
   "metadata": {},
   "outputs": [],
   "source": [
    "arm.read_get_motor_mode()"
   ]
  },
  {
   "cell_type": "markdown",
   "id": "ca3c748b-ae41-409d-b83d-fa005028652a",
   "metadata": {},
   "source": [
    "### 读取轨迹模式参数（最大速度、加速度、减速度）"
   ]
  },
  {
   "cell_type": "code",
   "execution_count": 3,
   "id": "f86874c3-a3ae-4add-a67b-891391f36050",
   "metadata": {},
   "outputs": [
    {
     "name": "stdout",
     "output_type": "stream",
     "text": [
      "motor0: (0.22005539655933778, 1.9999659557397373, 1.9999659557397373)\n",
      "motor1: (0.22005539655933778, 1.9999659557397373, 1.9999659557397373)\n"
     ]
    }
   ],
   "source": [
    "arm.set_motor_get_traj_mode_params()"
   ]
  },
  {
   "cell_type": "code",
   "execution_count": null,
   "id": "83a60393-4146-471c-b525-794ae356c274",
   "metadata": {},
   "outputs": [],
   "source": []
  },
  {
   "cell_type": "code",
   "execution_count": 13,
   "id": "53f0fc64-1b8c-4de6-b23a-c66e79160115",
   "metadata": {},
   "outputs": [
    {
     "name": "stdout",
     "output_type": "stream",
     "text": [
      "motor i -0.0296246189307\n",
      "motor i 0.215468181797\n",
      "motor i -0.0134639686491\n",
      "motor i 0.0\n"
     ]
    }
   ],
   "source": [
    "arm.get_motor_position_message() #获取电机位置信息"
   ]
  },
  {
   "cell_type": "code",
   "execution_count": null,
   "id": "03060af5-1ed2-4e95-995d-f4412ad31cb1",
   "metadata": {},
   "outputs": [],
   "source": []
  },
  {
   "cell_type": "code",
   "execution_count": null,
   "id": "aaf19ecc-3d15-44c4-b44e-5bf2a41688dd",
   "metadata": {},
   "outputs": [],
   "source": [
    "arm.set_motor_get_traj_mode_params()"
   ]
  },
  {
   "cell_type": "code",
   "execution_count": null,
   "id": "557a6e17-22e5-4b04-af35-8efc5ba19c0c",
   "metadata": {},
   "outputs": [],
   "source": []
  },
  {
   "cell_type": "code",
   "execution_count": null,
   "id": "25825e26-db50-4d14-ba4c-84b32459e9fa",
   "metadata": {},
   "outputs": [],
   "source": []
  },
  {
   "cell_type": "code",
   "execution_count": null,
   "id": "99948da4-2707-44b6-b7af-212ab70a0978",
   "metadata": {},
   "outputs": [],
   "source": [
    "arm.input_position_message(0,50)"
   ]
  },
  {
   "cell_type": "code",
   "execution_count": null,
   "id": "334fbc97-cd6f-4234-b67d-f3cc5d9bd61f",
   "metadata": {},
   "outputs": [],
   "source": [
    "arm.input_position_message(0,60)"
   ]
  },
  {
   "cell_type": "code",
   "execution_count": null,
   "id": "a0d9e1de-167f-4a67-9670-95386c39af2e",
   "metadata": {},
   "outputs": [],
   "source": [
    "arm.peanut_jump(0)"
   ]
  },
  {
   "cell_type": "code",
   "execution_count": null,
   "id": "2558aaaf-84d5-4b9a-ac53-e8ddd64b8db1",
   "metadata": {},
   "outputs": [],
   "source": [
    "arm.input_position_message(0,60)"
   ]
  },
  {
   "cell_type": "code",
   "execution_count": 23,
   "id": "f4d07aec-7c99-4f2c-9e9c-46d142a1e7c1",
   "metadata": {},
   "outputs": [
    {
     "name": "stdout",
     "output_type": "stream",
     "text": [
      "step_now: 0\n"
     ]
    }
   ],
   "source": [
    "arm.input_position_message(0,48)"
   ]
  },
  {
   "cell_type": "code",
   "execution_count": null,
   "id": "41df17b0-ed9a-465d-b8d7-ed2c7aa2515c",
   "metadata": {},
   "outputs": [],
   "source": [
    "arm.input_position_message(0,48)"
   ]
  },
  {
   "cell_type": "code",
   "execution_count": 24,
   "id": "54735c99-4ff7-45e6-9b89-417e9b64eb78",
   "metadata": {},
   "outputs": [
    {
     "name": "stdout",
     "output_type": "stream",
     "text": [
      "step_now: 0\n"
     ]
    }
   ],
   "source": [
    "arm.input_position_message(0,48-2.8)"
   ]
  },
  {
   "cell_type": "code",
   "execution_count": null,
   "id": "e874480d-fcfb-4e13-b090-3966d179bd0c",
   "metadata": {},
   "outputs": [],
   "source": []
  },
  {
   "cell_type": "code",
   "execution_count": null,
   "id": "ca4979dc-8594-48a9-ba36-28840a9e0b7e",
   "metadata": {},
   "outputs": [],
   "source": []
  },
  {
   "cell_type": "code",
   "execution_count": null,
   "id": "a38295e5-b04f-4b27-b8a3-fdd697750c7b",
   "metadata": {},
   "outputs": [],
   "source": []
  },
  {
   "cell_type": "code",
   "execution_count": null,
   "id": "b6b25955-db7e-4e49-b91f-953cf5b245e2",
   "metadata": {},
   "outputs": [],
   "source": []
  },
  {
   "cell_type": "code",
   "execution_count": null,
   "id": "b2828b56-de91-4dec-be5f-ea5b11755d2b",
   "metadata": {},
   "outputs": [],
   "source": []
  },
  {
   "cell_type": "code",
   "execution_count": null,
   "id": "a059777c-7d59-4aa3-97e9-5a5b8b5a4801",
   "metadata": {},
   "outputs": [],
   "source": []
  },
  {
   "cell_type": "code",
   "execution_count": null,
   "id": "62968398-bccf-41e4-b3b5-140b0e527c54",
   "metadata": {},
   "outputs": [],
   "source": []
  },
  {
   "cell_type": "code",
   "execution_count": null,
   "id": "572c9ed2-b574-4779-b3c9-281316dd5380",
   "metadata": {},
   "outputs": [],
   "source": []
  },
  {
   "cell_type": "code",
   "execution_count": null,
   "id": "ba39f194-438e-40f8-a149-a7068531e199",
   "metadata": {},
   "outputs": [],
   "source": []
  },
  {
   "cell_type": "code",
   "execution_count": null,
   "id": "a88379c9-fb0b-46e1-a1fe-e2bf9cb7adc5",
   "metadata": {},
   "outputs": [],
   "source": [
    "arm.input_position_message(0,40)"
   ]
  },
  {
   "cell_type": "code",
   "execution_count": null,
   "id": "2d82b372-e5a6-4a9e-bbaf-4720e092a675",
   "metadata": {},
   "outputs": [],
   "source": [
    "arm.input_position_message(0,30)"
   ]
  },
  {
   "cell_type": "code",
   "execution_count": null,
   "id": "1201ff67-5706-49a2-ad40-1da1a50d5557",
   "metadata": {},
   "outputs": [],
   "source": []
  },
  {
   "cell_type": "code",
   "execution_count": null,
   "id": "599ae741-d4c4-4ce0-8298-86cbaa61b0ea",
   "metadata": {},
   "outputs": [],
   "source": [
    "arm.input_position_message(-25,50)"
   ]
  },
  {
   "cell_type": "code",
   "execution_count": null,
   "id": "adc93917-40cb-4ec7-a835-a8816225edc6",
   "metadata": {},
   "outputs": [],
   "source": [
    "arm.motors[0].get_pos"
   ]
  },
  {
   "cell_type": "code",
   "execution_count": null,
   "id": "2b68bf26-9495-48f4-83e8-f86c8115d7a4",
   "metadata": {},
   "outputs": [],
   "source": []
  },
  {
   "cell_type": "code",
   "execution_count": null,
   "id": "c38d49d4-b991-4c4f-8aab-3e1516feaa42",
   "metadata": {},
   "outputs": [],
   "source": [
    "list = np.arange(-20, 20, 0.5)\n",
    "list_y = np.arrange(50)\n",
    "for point in list:\n",
    "    arm.input_position_message(point,50)\n",
    "    #print(point)\n",
    "    #time.sleep(0.02)"
   ]
  },
  {
   "cell_type": "code",
   "execution_count": null,
   "id": "098efd1b-3739-42ca-be9c-916e4567910c",
   "metadata": {},
   "outputs": [],
   "source": [
    "list = np.arange(20, -20, -0.5)\n",
    "for point in list:\n",
    "    arm.input_position_message(point,50)\n",
    "    #print(point)\n",
    "    time.sleep(0.02)"
   ]
  },
  {
   "cell_type": "code",
   "execution_count": null,
   "id": "21ad08fa-5d8f-4653-8375-993285618392",
   "metadata": {},
   "outputs": [],
   "source": []
  },
  {
   "cell_type": "code",
   "execution_count": null,
   "id": "1114eab3-34a9-4a71-9fd2-1459418c3b23",
   "metadata": {},
   "outputs": [],
   "source": [
    "arm.input_position_message(-25,49.6)"
   ]
  },
  {
   "cell_type": "code",
   "execution_count": null,
   "id": "85e0adae-3756-40c5-a550-48e79046afdc",
   "metadata": {},
   "outputs": [],
   "source": [
    "arm.input_position_message(25,40)"
   ]
  },
  {
   "cell_type": "code",
   "execution_count": 7,
   "id": "0af1e968-0d3f-4864-8ea3-b93b88209d10",
   "metadata": {},
   "outputs": [
    {
     "name": "stdout",
     "output_type": "stream",
     "text": [
      "motor 0  set sucessfully!\n",
      "motor 1  set sucessfully!\n"
     ]
    }
   ],
   "source": [
    "arm.write_position_traj_mode(0, vel_speed, acc_up, acc_down)\n",
    "arm.write_position_traj_mode(1, vel_speed, acc_up, acc_down)\n",
    "arm.home()"
   ]
  },
  {
   "cell_type": "code",
   "execution_count": 9,
   "id": "d7af54fc-5a88-4563-9d3f-742c16068ae9",
   "metadata": {},
   "outputs": [],
   "source": [
    "arm.input_position_message(-17.275,40.2)"
   ]
  },
  {
   "cell_type": "code",
   "execution_count": 14,
   "id": "0a7871c3-c671-420c-b523-e96fe96dead2",
   "metadata": {},
   "outputs": [
    {
     "name": "stdout",
     "output_type": "stream",
     "text": [
      "step_now: 0\n"
     ]
    }
   ],
   "source": [
    "arm.input_position_message(-17.275,50.2)"
   ]
  },
  {
   "cell_type": "code",
   "execution_count": 15,
   "id": "7379b3d4-7c3d-4d91-96d3-d5a63fa18804",
   "metadata": {},
   "outputs": [
    {
     "name": "stdout",
     "output_type": "stream",
     "text": [
      "step_now: 0\n"
     ]
    }
   ],
   "source": [
    "arm.input_position_message(-17.275,35.2)"
   ]
  },
  {
   "cell_type": "code",
   "execution_count": null,
   "id": "ac96d49e-5a18-44f0-8db8-9964ca2f401f",
   "metadata": {},
   "outputs": [],
   "source": [
    "arm.input_position_message(-17.275,45.2)"
   ]
  },
  {
   "cell_type": "code",
   "execution_count": 16,
   "id": "34fecff1-8f0f-4f9b-bf6f-1c055e711595",
   "metadata": {},
   "outputs": [
    {
     "name": "stdout",
     "output_type": "stream",
     "text": [
      "step_now: 0\n"
     ]
    }
   ],
   "source": [
    "arm.input_position_message(-17.275,40.2)"
   ]
  },
  {
   "cell_type": "code",
   "execution_count": null,
   "id": "efa7af7e-b4e2-4287-96bf-9859a91f7c13",
   "metadata": {},
   "outputs": [],
   "source": []
  },
  {
   "cell_type": "code",
   "execution_count": 7,
   "id": "7e209429-23eb-4df5-a382-5e111498c033",
   "metadata": {},
   "outputs": [
    {
     "name": "stdout",
     "output_type": "stream",
     "text": [
      "motor 0  set sucessfully!\n",
      "motor 1  set sucessfully!\n",
      "step_now: 0\n"
     ]
    }
   ],
   "source": [
    "arm.write_position_traj_mode(0, vel_speed, acc_up, acc_down)\n",
    "arm.write_position_traj_mode(1, vel_speed, acc_up, acc_down)\n",
    "arm.input_position_message(-17.275,40.2)"
   ]
  },
  {
   "cell_type": "code",
   "execution_count": 34,
   "id": "42fab45c-3554-497d-a424-f7c9a20f26c9",
   "metadata": {},
   "outputs": [
    {
     "name": "stdout",
     "output_type": "stream",
     "text": [
      "motor 0  set sucessfully!\n",
      "motor 1  set sucessfully!\n",
      "step_now: 0\n"
     ]
    }
   ],
   "source": [
    "arm.write_position_traj_mode(0, vel_speed, acc_up, acc_down)\n",
    "arm.write_position_traj_mode(1, vel_speed, acc_up, acc_down)\n",
    "arm.input_position_message(17.275,36.2)"
   ]
  },
  {
   "cell_type": "code",
   "execution_count": null,
   "id": "55fea73d-be7e-427a-b0ae-3f3a96403a64",
   "metadata": {},
   "outputs": [],
   "source": []
  },
  {
   "cell_type": "code",
   "execution_count": 21,
   "id": "2827989c-be1c-4a72-8bd7-d033c67a9d9e",
   "metadata": {},
   "outputs": [],
   "source": [
    "arm.set_position_fliter_mode(0,4)"
   ]
  },
  {
   "cell_type": "code",
   "execution_count": 22,
   "id": "488e53fb-1b80-4b86-bb4a-803c532fb63c",
   "metadata": {},
   "outputs": [],
   "source": [
    "arm.set_position_fliter_mode(1,4)"
   ]
  },
  {
   "cell_type": "code",
   "execution_count": 12,
   "id": "9cd10470-50d6-4afc-be86-e2d0126fd381",
   "metadata": {},
   "outputs": [
    {
     "name": "stdout",
     "output_type": "stream",
     "text": [
      "motor 0  set sucessfully!\n",
      "motor 1  set sucessfully!\n"
     ]
    }
   ],
   "source": [
    "arm.write_position_traj_mode(0, vel_speed+0.1, acc_up+0.5, acc_down+0.5)\n",
    "arm.write_position_traj_mode(1, vel_speed+0.1, acc_up+0.5, acc_down+0.5)"
   ]
  },
  {
   "cell_type": "code",
   "execution_count": 11,
   "id": "a3d340ee-1e0b-4ab4-9abe-d5d4854cd8e0",
   "metadata": {},
   "outputs": [
    {
     "name": "stdout",
     "output_type": "stream",
     "text": [
      "motor 0  set sucessfully!\n",
      "motor 1  set sucessfully!\n"
     ]
    }
   ],
   "source": [
    "arm.write_position_traj_mode(0, vel_speed+0.1, acc_up+0.5, acc_down+0.5)\n",
    "arm.write_position_traj_mode(1, vel_speed+0.1, acc_up+0.5, acc_down+0.5)\n",
    "arm.home()"
   ]
  },
  {
   "cell_type": "code",
   "execution_count": null,
   "id": "7ed9289a-8387-4e7f-8026-43499b200044",
   "metadata": {},
   "outputs": [],
   "source": [
    "while(1):\n",
    "    arm.peanut_jump(2)\n",
    "    arm.delay(1.0)"
   ]
  },
  {
   "cell_type": "code",
   "execution_count": null,
   "id": "de2ac023-0ee1-41cc-b124-98d8a24a8db3",
   "metadata": {},
   "outputs": [],
   "source": []
  },
  {
   "cell_type": "code",
   "execution_count": null,
   "id": "f355fb4d-3cd2-434a-b215-7be0ecda7f2d",
   "metadata": {},
   "outputs": [],
   "source": [
    "arm.peanum_arm_move(-25.4, 0, 1.625, 40.2, 1.98, 0.08, 1.0)"
   ]
  },
  {
   "cell_type": "code",
   "execution_count": 10,
   "id": "665f58fe-a42c-4398-946f-2db3bc4b4b41",
   "metadata": {},
   "outputs": [
    {
     "name": "stdout",
     "output_type": "stream",
     "text": [
      "step_now1: 0\n"
     ]
    }
   ],
   "source": [
    "arm.stepper_position(1.5)"
   ]
  },
  {
   "cell_type": "code",
   "execution_count": 24,
   "id": "bac83763-df0e-442e-9bee-d92613aabc5a",
   "metadata": {},
   "outputs": [],
   "source": [
    "arm.enable()"
   ]
  },
  {
   "cell_type": "code",
   "execution_count": 12,
   "id": "df9e7dce-b87a-46b8-9b39-7faaef7fa3cd",
   "metadata": {},
   "outputs": [],
   "source": [
    "arm.disable()"
   ]
  },
  {
   "cell_type": "markdown",
   "id": "a266a60e-d076-4f59-853a-6a7a425359b6",
   "metadata": {},
   "source": [
    "### 圆方法"
   ]
  },
  {
   "cell_type": "code",
   "execution_count": null,
   "id": "fef8f76b-865c-41e2-aced-4bfeb6a9ae41",
   "metadata": {},
   "outputs": [],
   "source": [
    "arm.peanum_arm_move(-17.275, 0, 1.625, 40.2, 1.98, 0.08, 1.0)\n",
    "#arm.stepper_position(1.5)"
   ]
  },
  {
   "cell_type": "code",
   "execution_count": null,
   "id": "e85df367-b723-4367-aa43-278584da166d",
   "metadata": {},
   "outputs": [],
   "source": []
  },
  {
   "cell_type": "markdown",
   "id": "499ee022-fc98-4f15-8d8b-a7cff06d8ac0",
   "metadata": {},
   "source": [
    "### 圆方法一"
   ]
  },
  {
   "cell_type": "code",
   "execution_count": null,
   "id": "accf1d5e-ca7d-4c88-aec4-c551fbedd0b2",
   "metadata": {},
   "outputs": [],
   "source": [
    "arm.peanum_arm_move_first(-17.275, -10, 1.625, 35.2, 1.98, 0.08, 2.0)"
   ]
  },
  {
   "cell_type": "markdown",
   "id": "dfcd1d84-a5d4-4e54-ae16-08808c558cb2",
   "metadata": {},
   "source": [
    "### 左右摇摆方法"
   ]
  },
  {
   "cell_type": "code",
   "execution_count": 10,
   "id": "016d1a3d-8243-406f-b385-829e18767236",
   "metadata": {},
   "outputs": [
    {
     "name": "stdout",
     "output_type": "stream",
     "text": [
      "first\n",
      "keng: 1\n",
      "second\n",
      "keng: 2\n",
      "third\n",
      "keng: 3\n",
      "notice: 11\n",
      "notice: 12\n",
      "end\n",
      "motor 0  set sucessfully!\n",
      "motor 1  set sucessfully!\n"
     ]
    }
   ],
   "source": [
    "arm.peanum_arm_move_second(-17.275, 5, 1.6, 40.2, 1.98, -1.4, 2.5, 0.03, 1, 0)"
   ]
  },
  {
   "cell_type": "code",
   "execution_count": null,
   "id": "0f551af0-e64d-47eb-b363-15c7691f76bf",
   "metadata": {},
   "outputs": [],
   "source": []
  },
  {
   "cell_type": "code",
   "execution_count": null,
   "id": "e77e5bc8-7183-4474-b746-718a8b00edfb",
   "metadata": {},
   "outputs": [],
   "source": []
  },
  {
   "cell_type": "code",
   "execution_count": 16,
   "id": "157234e0-4eca-4e7b-9394-3f201a032637",
   "metadata": {},
   "outputs": [
    {
     "name": "stdout",
     "output_type": "stream",
     "text": [
      "motor_now_new: 596.9020999999995\n"
     ]
    }
   ],
   "source": [
    "arm.peanut_jump(10)"
   ]
  },
  {
   "cell_type": "code",
   "execution_count": 10,
   "id": "19823e67-c9a1-414b-8176-a317f3d1ce53",
   "metadata": {},
   "outputs": [
    {
     "name": "stdout",
     "output_type": "stream",
     "text": [
      "step_now1: 0\n"
     ]
    }
   ],
   "source": [
    "arm.stepper_position(1.5)"
   ]
  },
  {
   "cell_type": "code",
   "execution_count": 9,
   "id": "f228a44d-c53a-4491-a1f6-5b669336df47",
   "metadata": {},
   "outputs": [
    {
     "name": "stdout",
     "output_type": "stream",
     "text": [
      "step_now2: 0\n"
     ]
    }
   ],
   "source": [
    "arm.stepper_position_reset()"
   ]
  },
  {
   "cell_type": "markdown",
   "id": "04afe955-3474-41d6-9b2c-196439ccf82d",
   "metadata": {},
   "source": [
    "### 圆方法"
   ]
  },
  {
   "cell_type": "code",
   "execution_count": null,
   "id": "b7dabf23-ea03-4d73-866b-afad8638f16e",
   "metadata": {},
   "outputs": [],
   "source": [
    "global theta\n",
    "theta = 3.14\n",
    "\n",
    "keng = 0\n",
    "list = np.arange(-25.9, 21.5, 1.634)\n",
    "\n",
    "for point in list:\n",
    "    especially_data = 0\n",
    "    keng = keng + 1\n",
    "    do_once = 1\n",
    "    data_param = [0, 0, 2]\n",
    "    for i in range(40):\n",
    "        #print(\"keng\",keng)\n",
    "        theta += 6.28/10\n",
    "        if theta > 6.28: \n",
    "            theta -= 6.28\n",
    "        #print(\"i:\",i)\n",
    "        x = data_param[0] + data_param[2] * math.cos(theta)\n",
    "        y = data_param[1] + data_param[2] * math.sin(theta)\n",
    "        if (( keng <= 2) and (do_once == 1) ):\n",
    "            do_once = 2\n",
    "            arm.input_position_message(point-0.5, 40.2)\n",
    "            arm.delay(0.5)\n",
    "            arm.input_position_message(point-0.5,40.2 -0.5)\n",
    "            arm.delay(0.5)\n",
    "            arm.input_position_message(point-0.5,40.2 -1)\n",
    "            arm.delay(0.5)\n",
    "            arm.input_position_message(point-0.5,40.2 -1.5)\n",
    "            arm.delay(0.5)\n",
    "            arm.input_position_message(point-0.5,40.2 -2.0)\n",
    "            arm.delay(0.5)            \n",
    "            heiheihei = 2\n",
    "            print(\"i am here\")\n",
    "            arm.input_position_message(point,40.2)\n",
    "            arm.delay(1.8)\n",
    "        elif (keng >=10) and (keng<=19):\n",
    "            especially_data = 1\n",
    "            #print(\"i am check myself\")\n",
    "            arm.input_position_message(point + round(x,2),40.2 + round(y,2)+0.22)\n",
    "            arm.delay(0.0234)\n",
    "        else:\n",
    "            arm.input_position_message(point + round(x,2),40.2 + round(y,2))\n",
    "            arm.delay(0.0234)\n",
    "            wahaha = 1\n",
    "            especially_data = 2\n",
    "       \n",
    "    #print(\"change\",keng)\n",
    "    if especially_data == 1:\n",
    "        print(\"teshu\")\n",
    "        arm.input_position_message(point,40.2+0.82)\n",
    "        arm.delay(1.8)\n",
    "    else:\n",
    "        arm.input_position_message(point,40.2)\n",
    "        arm.delay(1.8)\n",
    "    #arm.peanut_jump(2)\n",
    "    #time.sleep(3.5)\n",
    "    print(\"keng:\",keng)\n",
    "    "
   ]
  },
  {
   "cell_type": "code",
   "execution_count": null,
   "id": "40959a4c-4b9b-4cdb-a7e9-bcbdaa0be953",
   "metadata": {},
   "outputs": [],
   "source": []
  },
  {
   "cell_type": "markdown",
   "id": "8d86b81d-69d2-4cbc-87f0-a243349b1913",
   "metadata": {},
   "source": [
    "### 左右摆动其他方法"
   ]
  },
  {
   "cell_type": "code",
   "execution_count": null,
   "id": "b2fab4be-eeb3-45be-aa74-ebacf6915765",
   "metadata": {},
   "outputs": [],
   "source": [
    "global theta\n",
    "theta = 3.14\n",
    "\n",
    "keng = 0\n",
    "list = np.arange(-25.9, 21.5, 1.58)\n",
    "\n",
    "for point in list:\n",
    "    keng = keng + 1\n",
    "    arm.input_position_message(point + round(x,2),40.2 + round(y,2))\n",
    "    arm.delay(0.03)\n",
    "       \n",
    "    print(\"change\",keng)\n",
    "    arm.input_position_message(point,40.2)\n",
    "    #print(\"keng:\",keng,\" x:\", point,\" y:\", list_y_start)\n",
    "    \n",
    "    \n",
    "    #arm.input_position_message(point,40)\n",
    "    arm.delay(1.8)\n",
    "    #arm.peanut_jump(2)\n",
    "    #time.sleep(3.5)\n",
    "    print(\"end\")"
   ]
  },
  {
   "cell_type": "code",
   "execution_count": null,
   "id": "d5aee4c7-26b3-4964-bc29-e51f7a051ec5",
   "metadata": {},
   "outputs": [],
   "source": []
  },
  {
   "cell_type": "code",
   "execution_count": null,
   "id": "9bec6026-2f74-4486-9c4e-3233eb21343a",
   "metadata": {},
   "outputs": [],
   "source": [
    "keng = 0\n",
    "flag = 0\n",
    "list_y_start = 51.0\n",
    "list_y_end = 48.7\n",
    "if list_y_start-list_y_end >0:\n",
    "    flag = -1\n",
    "else:\n",
    "    flag = 1\n",
    "delta_list_y= (list_y_start - list_y_end) / 30.0\n",
    "list = np.arange(-25, 25, 1.512)\n",
    "\n",
    "for point in list:\n",
    "    keng = keng + 1\n",
    "    list_y_start = list_y_start+ flag*delta_list_y\n",
    "    #arm.input_position_message(point,list_y_start)\n",
    "    delta_change_y = 1.5\n",
    "    delta_flag_y = 0\n",
    "    delta_reset_y = 0\n",
    "    delta_change_x = 1.5\n",
    "    delta_flag_x = 0\n",
    "    delta_reset_x = 0\n",
    "    if keng == 1:\n",
    "        for change in range(4):\n",
    "            print(\"change:\",change)\n",
    "            if change == 0:\n",
    "                delta_flag_x = 1\n",
    "                delta_reset_x = 0\n",
    "                delta_flag_y = 1\n",
    "                delta_reset_y = 1\n",
    "            elif change == 1:\n",
    "                delta_flag_x = -1\n",
    "                delta_reset_x = 1\n",
    "                delta_flag_y = 1\n",
    "                delta_reset_y = 0\n",
    "            elif change == 2:\n",
    "                delta_flag_x = 1\n",
    "                delta_reset_x = 0\n",
    "                delta_flag_y = -1\n",
    "                delta_reset_y = 1\n",
    "            elif change == 3:\n",
    "                delta_flag_x = 1\n",
    "                delta_reset_x = 1\n",
    "                delta_flag_y = 1\n",
    "                delta_reset_y = 0\n",
    "            else:\n",
    "                print(\"nothing\")\n",
    "            delta_change_xn = delta_change_x*delta_flag_x*delta_reset_x\n",
    "            delta_change_yn = delta_change_y*delta_flag_y*delta_reset_y\n",
    "            #print(\"flag_x:\",delta_flag_x,\"reset_x:\",delta_reset_x,\"flag_y:\",delta_flag_y,\"reset_y:\",delta_reset_y)\n",
    "            #print(\"delta_change_x:\",delta_change_x,\" delta_change_y:\",delta_change_y)\n",
    "            #arm.input_position_message(point-2,40+2)\n",
    "            #print(\"change:\",change)\n",
    "            #delta_change_y = delta_change_y - 2\n",
    "            #delta_change_x = delta_change_x - 1\n",
    "            arm.input_position_message(point+delta_change_xn,45+delta_change_yn)\n",
    "            print(\"delta_change_x:\",delta_change_xn,\" delta_change_y:\",delta_change_yn)\n",
    "            #delta_change_x = math.fabs(delta_change_x) - change*1\n",
    "            #delta_change_y = math.fabs(delta_change_y) - change*1\n",
    "            #arm.input_position_message(delta_change_x,delta_change_y)\n",
    "            arm.delay(0.3)\n",
    "        arm.input_position_message(-25.0,45)\n",
    "        arm.delay(4)\n",
    "        print(\"change_end\")\n",
    "    #arm.input_position_message(point-2,40+2)\n",
    "    #arm.delay(0.2)\n",
    "    #print(\"change\",keng)\n",
    "    #arm.input_position_message(point,40)\n",
    "    print(\"keng:\",keng,\" x:\", point,\" y:\", list_y_start)\n",
    "    #time.sleep(2)\n",
    "    #arm.peanut_jump(2)\n",
    "    #time.sleep(0.5)"
   ]
  },
  {
   "cell_type": "code",
   "execution_count": null,
   "id": "2bf5b868-2ff4-493d-9feb-120a20e4c7c3",
   "metadata": {},
   "outputs": [],
   "source": []
  },
  {
   "cell_type": "code",
   "execution_count": null,
   "id": "18d37a3d-6db9-45ed-8d87-b7137f6f3115",
   "metadata": {},
   "outputs": [],
   "source": []
  },
  {
   "cell_type": "code",
   "execution_count": null,
   "id": "a5fbbffa-f508-404a-bfc2-14f2572584c7",
   "metadata": {},
   "outputs": [],
   "source": []
  },
  {
   "cell_type": "code",
   "execution_count": null,
   "id": "68fa3705-15ec-47b7-be54-9b36d5d35b8b",
   "metadata": {},
   "outputs": [],
   "source": []
  },
  {
   "cell_type": "code",
   "execution_count": null,
   "id": "6ce857d8-c9b3-4830-8f65-28c6fb0ac2d7",
   "metadata": {},
   "outputs": [],
   "source": [
    "arm.input_position_message(24.896,40)"
   ]
  },
  {
   "cell_type": "code",
   "execution_count": null,
   "id": "226bff83-384c-400b-8779-1be65d916d8e",
   "metadata": {},
   "outputs": [],
   "source": [
    "keng_back = 0\n",
    "flag_back = 0\n",
    "list_y_start_back = 51.0\n",
    "list_y_end_back = 48.7\n",
    "if list_y_start_back-list_y_end_back >0:\n",
    "    flag_back = -1\n",
    "else:\n",
    "    flag_back = 1\n",
    "delta_list_y_back= (list_y_start_back - list_y_end_back) / 30.0\n",
    "list = np.arange(25, -25, -1.512)\n",
    "print(\"start!\")\n",
    "for point_back in list:\n",
    "    keng_back = keng_back + 1\n",
    "    list_y_start_back = list_y_start_back+ flag_back*delta_list_y_back\n",
    "    #arm.input_position_message(point_back,list_y_start_back)\n",
    "    arm.input_position_message(point_back+2,40+2)\n",
    "    arm.delay(0.2)\n",
    "    print(\"change_back\",keng_back)\n",
    "    arm.input_position_message(point_back,40)\n",
    "    print(\"keng_back:\",keng_back,\" x:\", point_back,\" y:\", list_y_start_back)\n",
    "    time.sleep(3)\n",
    "    arm.peanut_jump(2)\n",
    "    time.sleep(0.5)"
   ]
  },
  {
   "cell_type": "code",
   "execution_count": null,
   "id": "c2b379cc-5e7d-479f-840f-7955ac2c6bcf",
   "metadata": {},
   "outputs": [],
   "source": []
  },
  {
   "cell_type": "code",
   "execution_count": null,
   "id": "2f8a810f-a7e9-4b6a-972e-38086e4c5cf6",
   "metadata": {},
   "outputs": [],
   "source": []
  },
  {
   "cell_type": "code",
   "execution_count": null,
   "id": "9e2d1c35-7b6a-49ec-bc75-98e1a288534d",
   "metadata": {},
   "outputs": [],
   "source": []
  }
 ],
 "metadata": {
  "kernelspec": {
   "display_name": "Python 3",
   "language": "python",
   "name": "python3"
  },
  "language_info": {
   "codemirror_mode": {
    "name": "ipython",
    "version": 3
   },
   "file_extension": ".py",
   "mimetype": "text/x-python",
   "name": "python",
   "nbconvert_exporter": "python",
   "pygments_lexer": "ipython3",
   "version": "3.6.9"
  }
 },
 "nbformat": 4,
 "nbformat_minor": 5
}
