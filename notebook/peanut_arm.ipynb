{
 "cells": [
  {
   "cell_type": "code",
   "execution_count": null,
   "id": "2111a523-f267-4050-987d-f01c4de650f8",
   "metadata": {},
   "outputs": [],
   "source": [
    "from arm_device import DoubleArm\n",
    "arm=DoubleArm()\n",
    "import numpy as np\n",
    "import time\n",
    "import math"
   ]
  },
  {
   "cell_type": "code",
   "execution_count": 14,
   "id": "5b971b4d-93d3-4c97-882e-0d62ec2f101c",
   "metadata": {},
   "outputs": [],
   "source": [
    "arm.enable()  #机械臂使能"
   ]
  },
  {
   "cell_type": "code",
   "execution_count": null,
   "id": "0edb5213-f358-4f3f-bc48-240a027b1946",
   "metadata": {},
   "outputs": [],
   "source": [
    "#初始化部分\n",
    "acc_up = 2\n",
    "acc_down = 2\n",
    "vel_speed = 0.22\n",
    "arm.write_position_traj_mode(0, vel_speed, acc_up, acc_down)\n",
    "arm.write_position_traj_mode(1, vel_speed, acc_up, acc_down)\n",
    "arm.set_stepper_vel_acc_limit(8, 3.14/2, 3.14/2 ) #设置步进电机最大速度、加速度"
   ]
  },
  {
   "cell_type": "code",
   "execution_count": 15,
   "id": "48434acc-e58f-4395-9c97-7f854aaa2a49",
   "metadata": {},
   "outputs": [],
   "source": [
    "arm.disable()  #机械臂失能"
   ]
  },
  {
   "cell_type": "code",
   "execution_count": 4,
   "id": "6f5022ac-ef6a-4299-af81-9d00843e83f8",
   "metadata": {},
   "outputs": [
    {
     "data": {
      "application/vnd.jupyter.widget-view+json": {
       "model_id": "72c7f92d21e34640bebf4386062c60b8",
       "version_major": 2,
       "version_minor": 0
      },
      "text/plain": [
       "interactive(children=(FloatSlider(value=-0.03, description='a1', max=3.141592653589793, min=-3.141592653589793…"
      ]
     },
     "metadata": {},
     "output_type": "display_data"
    }
   ],
   "source": [
    "from ipywidgets import interact\n",
    "from math import pi\n",
    "@interact(a1=(-pi, pi, 0.01), a2=(-pi, pi, 0.01), a3=(-2*pi, 4.0, 0.01), a4=(-2*pi, 2*pi, 0.01))\n",
    "def calibrate(a1=-0.03, a2=0.22, a3=0.0, a4=0.0):\n",
    "    arm.set_motor_pos(0, a1)\n",
    "    arm.set_motor_pos(1, a2)\n",
    "    arm.set_motor_pos(2, a3)\n",
    "    arm.set_motor_pos(3, a4)"
   ]
  },
  {
   "cell_type": "code",
   "execution_count": null,
   "id": "8d7baa18-ed9c-4f5e-b0be-65a5c5726e8e",
   "metadata": {},
   "outputs": [],
   "source": [
    "arm.init()"
   ]
  },
  {
   "cell_type": "markdown",
   "id": "03fcb081-4567-4483-8708-756d8211f4f0",
   "metadata": {},
   "source": [
    "### 读取电机速度电流限制（速度、电流）"
   ]
  },
  {
   "cell_type": "code",
   "execution_count": null,
   "id": "daf98fce-8e77-46c8-bde9-446ce02cbd70",
   "metadata": {},
   "outputs": [],
   "source": [
    "arm.read_motor_get_limits()"
   ]
  },
  {
   "cell_type": "markdown",
   "id": "5515c495-1467-4ce0-895f-36f4aab6ddd2",
   "metadata": {},
   "source": [
    "### 设置电机默认最大速度及最大电流(30, 10)"
   ]
  },
  {
   "cell_type": "code",
   "execution_count": 16,
   "id": "9d7fcd6d-78ed-4f42-af51-62f9f0a4ce53",
   "metadata": {},
   "outputs": [],
   "source": [
    "arm.set_motor_vel_inter(30,13)"
   ]
  },
  {
   "cell_type": "markdown",
   "id": "1a752417-aa67-448a-bc23-1749d0f47804",
   "metadata": {},
   "source": [
    "### 读取当前电机模式"
   ]
  },
  {
   "cell_type": "code",
   "execution_count": null,
   "id": "b012a1fe-9947-4641-b032-6c3f2b4ef96d",
   "metadata": {},
   "outputs": [],
   "source": [
    "arm.read_get_motor_mode()"
   ]
  },
  {
   "cell_type": "markdown",
   "id": "ca3c748b-ae41-409d-b83d-fa005028652a",
   "metadata": {},
   "source": [
    "### 读取轨迹模式参数（最大速度、加速度、减速度）"
   ]
  },
  {
   "cell_type": "code",
   "execution_count": null,
   "id": "f86874c3-a3ae-4add-a67b-891391f36050",
   "metadata": {},
   "outputs": [],
   "source": [
    "arm.set_motor_get_traj_mode_params()"
   ]
  },
  {
   "cell_type": "code",
   "execution_count": null,
   "id": "0af1e968-0d3f-4864-8ea3-b93b88209d10",
   "metadata": {},
   "outputs": [],
   "source": [
    "arm.write_position_traj_mode(0, vel_speed, acc_up, acc_down)\n",
    "arm.write_position_traj_mode(1, vel_speed, acc_up, acc_down)\n",
    "arm.home()"
   ]
  },
  {
   "cell_type": "code",
   "execution_count": null,
   "id": "9cd10470-50d6-4afc-be86-e2d0126fd381",
   "metadata": {},
   "outputs": [],
   "source": [
    "arm.write_position_traj_mode(0, vel_speed+0.1, acc_up+0.5, acc_down+0.5)\n",
    "arm.write_position_traj_mode(1, vel_speed+0.1, acc_up+0.5, acc_down+0.5)"
   ]
  },
  {
   "cell_type": "code",
   "execution_count": null,
   "id": "f355fb4d-3cd2-434a-b215-7be0ecda7f2d",
   "metadata": {},
   "outputs": [],
   "source": [
    "arm.peanum_arm_move(-25.4, 0, 1.625, 40.2, 1.98, 0.08, 1.0)"
   ]
  },
  {
   "cell_type": "markdown",
   "id": "a266a60e-d076-4f59-853a-6a7a425359b6",
   "metadata": {},
   "source": [
    "### 圆方法"
   ]
  },
  {
   "cell_type": "code",
   "execution_count": null,
   "id": "fef8f76b-865c-41e2-aced-4bfeb6a9ae41",
   "metadata": {},
   "outputs": [],
   "source": [
    "arm.peanum_arm_move(-17.275, 0, 1.625, 40.2, 1.98, 0.08, 1.0)\n",
    "#arm.stepper_position(1.5)"
   ]
  },
  {
   "cell_type": "markdown",
   "id": "499ee022-fc98-4f15-8d8b-a7cff06d8ac0",
   "metadata": {},
   "source": [
    "### 圆方法一"
   ]
  },
  {
   "cell_type": "code",
   "execution_count": null,
   "id": "accf1d5e-ca7d-4c88-aec4-c551fbedd0b2",
   "metadata": {},
   "outputs": [],
   "source": [
    "arm.peanum_arm_move_first(-17.275, -10, 1.625, 35.2, 1.98, 0.08, 2.0)"
   ]
  },
  {
   "cell_type": "markdown",
   "id": "dfcd1d84-a5d4-4e54-ae16-08808c558cb2",
   "metadata": {},
   "source": [
    "### 左右摇摆方法"
   ]
  },
  {
   "cell_type": "code",
   "execution_count": null,
   "id": "016d1a3d-8243-406f-b385-829e18767236",
   "metadata": {},
   "outputs": [],
   "source": [
    "arm.peanum_arm_move_second(-17.275, 5, 1.6, 40.2, 1.98, -1.4, 2.5, 0.03, 1, 0)"
   ]
  }
 ],
 "metadata": {
  "kernelspec": {
   "display_name": "Python 3.9.2 64-bit",
   "language": "python",
   "name": "python3"
  },
  "language_info": {
   "codemirror_mode": {
    "name": "ipython",
    "version": 3
   },
   "file_extension": ".py",
   "mimetype": "text/x-python",
   "name": "python",
   "nbconvert_exporter": "python",
   "pygments_lexer": "ipython3",
   "version": "3.9.2"
  },
  "vscode": {
   "interpreter": {
    "hash": "56ff1c1c3135541108fe132e771aa45bbbf614a992258041b003da88d6e3d5e1"
   }
  }
 },
 "nbformat": 4,
 "nbformat_minor": 5
}
